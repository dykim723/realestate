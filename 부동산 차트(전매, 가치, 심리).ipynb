{
 "cells": [
  {
   "cell_type": "markdown",
   "metadata": {},
   "source": [
    "## KB 시세"
   ]
  },
  {
   "cell_type": "code",
   "execution_count": 4,
   "metadata": {},
   "outputs": [],
   "source": [
    "#[예제 2.2] xlwings모듈 활용하여 엑셀 데이터 가져와서 데이터프레임으로 저장 \n",
    "\n",
    "#import pandas as pd\n",
    "\n",
    "import xlwings as xw\n",
    "\n",
    "path = r'데이터\\KBLiivon_2019129.xls'\n",
    "wb = xw.Book(path) \n",
    "\n",
    "sheet = wb.sheets['KBLiivon_2019129']   \n",
    "row_num = sheet.range(1,1).end('down').end('down').row  \n",
    "data_range = 'A3:B' + str(row_num)\n",
    "#apt_info_column = [\"단지명\", \"주소(지번)\", \"주소(도로명)\", \"공급/전용면적\", \"세대수\", \"방/욕실수\", \"현관구조\"]\n",
    "apt_info = sheet[data_range].options(pd.DataFrame, index=False, header=False).value "
   ]
  },
  {
   "cell_type": "markdown",
   "metadata": {},
   "source": [
    "### 단지 정보"
   ]
  },
  {
   "cell_type": "code",
   "execution_count": 5,
   "metadata": {},
   "outputs": [],
   "source": [
    "import re\n",
    "apt_info_column = apt_info[0]\n",
    "apt_info_row = apt_info[1]\n",
    "apt_info_column = apt_info_column.tolist()\n",
    "\n",
    "\n",
    "def makeAptInfo(apt_info_row, apt_info_column):\n",
    "    apt_info_row = apt_info_row.tolist()    \n",
    "    apt = pd.DataFrame([apt_info_row], columns=apt_info_column)\n",
    "    areas = apt[\"공급/전용면적\"][0].split('/')\n",
    "    apt[\"공급\"] = float(areas[0])\n",
    "    apt[\"전용\"] = float(areas[1].replace(\"㎡\", \"\"))\n",
    "    households = apt[\"세대수\"][0].split(' ')\n",
    "    \n",
    "    household = int(re.findall('\\d+', households[0])[0])\n",
    "    totalHousehold = int(re.findall('\\d+', households[1])[0])\n",
    "    tRooms = apt[\"방/욕실수\"][0].split('/')\n",
    "    rooms = int(re.findall('\\d+', tRooms[0])[0])\n",
    "    bathroom = int(re.findall('\\d+', tRooms[1])[0])\n",
    "    apt[\"방수\"] = rooms\n",
    "    apt[\"욕실수\"] = bathroom\n",
    "    apt = apt.drop([\"세대수\", \"공급/전용면적\", \"방/욕실수\"], axis=1)\n",
    "    apt[\"세대수\"] = household\n",
    "    apt[\"총세대수\"] = totalHousehold\n",
    "    return apt"
   ]
  },
  {
   "cell_type": "code",
   "execution_count": 6,
   "metadata": {
    "scrolled": true
   },
   "outputs": [],
   "source": [
    "apt = makeAptInfo(apt_info_row, apt_info_column)"
   ]
  },
  {
   "cell_type": "markdown",
   "metadata": {},
   "source": [
    "### 시세 갱신일"
   ]
  },
  {
   "cell_type": "code",
   "execution_count": 7,
   "metadata": {},
   "outputs": [],
   "source": [
    "\n",
    "def makeRefreshingDate(sheet, df):    \n",
    "    price_refreshing_row_num = sheet.range(11,1).row\n",
    "    price_refreshing_data_range = 'A11:A' + str(price_refreshing_row_num)\n",
    "    price_refreshing_info = sheet[price_refreshing_data_range].options(pd.DataFrame, index=False, header=False).value\n",
    "    price_refreshing_info = price_refreshing_info[0][0].split(' ')\n",
    "    \n",
    "    from datetime import datetime\n",
    "    print(price_refreshing_info[3])\n",
    "    price_refreshing_info = datetime.strptime(price_refreshing_info[3], '%Y.%m.%d')\n",
    "    \n",
    "    df.insert(loc=0, column=\"시세갱신일\", value=price_refreshing_info)\n",
    "    df.reset_index(drop=True)\n",
    "    df.index += 1\n",
    "\n",
    "    return df"
   ]
  },
  {
   "cell_type": "code",
   "execution_count": 8,
   "metadata": {},
   "outputs": [
    {
     "name": "stdout",
     "output_type": "stream",
     "text": [
      "2019.12.06\n"
     ]
    },
    {
     "data": {
      "text/html": [
       "<div>\n",
       "<style scoped>\n",
       "    .dataframe tbody tr th:only-of-type {\n",
       "        vertical-align: middle;\n",
       "    }\n",
       "\n",
       "    .dataframe tbody tr th {\n",
       "        vertical-align: top;\n",
       "    }\n",
       "\n",
       "    .dataframe thead th {\n",
       "        text-align: right;\n",
       "    }\n",
       "</style>\n",
       "<table border=\"1\" class=\"dataframe\">\n",
       "  <thead>\n",
       "    <tr style=\"text-align: right;\">\n",
       "      <th></th>\n",
       "      <th>시세갱신일</th>\n",
       "      <th>단지명</th>\n",
       "      <th>주소(지번)</th>\n",
       "      <th>주소(도로명)</th>\n",
       "      <th>현관구조</th>\n",
       "      <th>공급</th>\n",
       "      <th>전용</th>\n",
       "      <th>방수</th>\n",
       "      <th>욕실수</th>\n",
       "      <th>세대수</th>\n",
       "      <th>총세대수</th>\n",
       "    </tr>\n",
       "  </thead>\n",
       "  <tbody>\n",
       "    <tr>\n",
       "      <td>1</td>\n",
       "      <td>2019-12-06</td>\n",
       "      <td>경동윈츠리버</td>\n",
       "      <td>서울특별시 동작구 본동 484</td>\n",
       "      <td>서울특별시 동작구 노량진로32길</td>\n",
       "      <td>계단식</td>\n",
       "      <td>78.93</td>\n",
       "      <td>56.68</td>\n",
       "      <td>2</td>\n",
       "      <td>1</td>\n",
       "      <td>142</td>\n",
       "      <td>272</td>\n",
       "    </tr>\n",
       "  </tbody>\n",
       "</table>\n",
       "</div>"
      ],
      "text/plain": [
       "       시세갱신일     단지명            주소(지번)            주소(도로명) 현관구조     공급     전용  \\\n",
       "1 2019-12-06  경동윈츠리버  서울특별시 동작구 본동 484  서울특별시 동작구 노량진로32길  계단식  78.93  56.68   \n",
       "\n",
       "   방수  욕실수  세대수  총세대수  \n",
       "1   2    1  142   272  "
      ]
     },
     "execution_count": 8,
     "metadata": {},
     "output_type": "execute_result"
    }
   ],
   "source": [
    "makeRefreshingDate(sheet, apt)"
   ]
  },
  {
   "cell_type": "markdown",
   "metadata": {},
   "source": [
    "### 시세정보"
   ]
  },
  {
   "cell_type": "code",
   "execution_count": 9,
   "metadata": {},
   "outputs": [],
   "source": [
    "def reorganizeColumns(df, strList, baseIndex):\n",
    "    bignames = makeColumns(strList)\n",
    "    big_col = list(df.columns)\n",
    "    small_col = list(df.iloc[baseIndex])\n",
    "    \n",
    "    setColumns(big_col, small_col, bignames)    \n",
    "    df.columns = [big_col, small_col]"
   ]
  },
  {
   "cell_type": "code",
   "execution_count": 10,
   "metadata": {},
   "outputs": [],
   "source": [
    "def setColumns(big_col, small_col, bignames):\n",
    "    for num, col in enumerate(small_col):\n",
    "        #print(num, col)\n",
    "        if col == None:\n",
    "            small_col[num] = big_col[num]\n",
    "\n",
    "        check = num\n",
    "        while True:\n",
    "            if big_col[check] in bignames:                \n",
    "                big_col[num] = big_col[check]\n",
    "                #print('big_col[', check, ']:', big_col[check], 'big_col[', num,']:', big_col[num])\n",
    "                break\n",
    "            else:\n",
    "                #print('ELSE::',check)\n",
    "                check = check - 1"
   ]
  },
  {
   "cell_type": "code",
   "execution_count": null,
   "metadata": {},
   "outputs": [],
   "source": [
    "def makeColumns(list):\n",
    "    colList = list.split(' ')\n",
    "    return colList"
   ]
  },
  {
   "cell_type": "code",
   "execution_count": null,
   "metadata": {},
   "outputs": [],
   "source": [
    "price_row_num = sheet.range(14,1).end('down').row  \n",
    "price_data_range = 'A12:I' + str(price_row_num)\n",
    "apt_price_info = sheet[price_data_range].options(pd.DataFrame, index=False, header=True).value \n",
    "apt_price_info"
   ]
  },
  {
   "cell_type": "code",
   "execution_count": null,
   "metadata": {},
   "outputs": [],
   "source": [
    "reorganizeColumns(apt_price_info, '기준월 매매가 전세가 월세가', 0)"
   ]
  },
  {
   "cell_type": "code",
   "execution_count": null,
   "metadata": {},
   "outputs": [],
   "source": [
    "apt_price_info"
   ]
  },
  {
   "cell_type": "code",
   "execution_count": null,
   "metadata": {},
   "outputs": [],
   "source": [
    "apt_price_info.columns"
   ]
  },
  {
   "cell_type": "code",
   "execution_count": null,
   "metadata": {},
   "outputs": [],
   "source": [
    "new_price_col_data = apt_price_info.drop([0, 0])"
   ]
  },
  {
   "cell_type": "code",
   "execution_count": null,
   "metadata": {},
   "outputs": [],
   "source": [
    "new_price_col_data = new_price_col_data.sort_values(by=new_price_col_data.columns[0], ascending=True)"
   ]
  },
  {
   "cell_type": "code",
   "execution_count": null,
   "metadata": {},
   "outputs": [],
   "source": [
    "new_price_col_data = new_price_col_data.reset_index(drop=True)\n",
    "new_price_col_data.index += 1"
   ]
  },
  {
   "cell_type": "code",
   "execution_count": null,
   "metadata": {},
   "outputs": [],
   "source": [
    "from datetime import datetime\n",
    "\n",
    "new_price_col_data['기준월'] = pd.to_datetime(new_price_col_data['기준월']['기준월'], errors='coerce')\n",
    "new_price_col_data"
   ]
  },
  {
   "cell_type": "code",
   "execution_count": null,
   "metadata": {},
   "outputs": [],
   "source": [
    "# new_price_col_data['전세가', '하위평균가'] = new_price_col_data['전세가', '하위평균가'].replace('-', int(0))\n",
    "# new_price_col_data['전세가', '일반평균가'] = new_price_col_data['전세가', '일반평균가'].replace('-', int(0))\n",
    "# new_price_col_data['전세가', '일반평균가'] = new_price_col_data['전세가', '일반평균가'].replace('-', int(0))\n",
    "new_price_col_data['전세가'] = new_price_col_data['전세가'].replace('-', 0)\n",
    "new_price_col_data"
   ]
  },
  {
   "cell_type": "markdown",
   "metadata": {},
   "source": [
    "### 전세가/매매가 차트"
   ]
  },
  {
   "cell_type": "code",
   "execution_count": null,
   "metadata": {},
   "outputs": [],
   "source": [
    "import matplotlib.pyplot as plt\n",
    "import numpy as np\n",
    " "
   ]
  },
  {
   "cell_type": "code",
   "execution_count": null,
   "metadata": {},
   "outputs": [],
   "source": [
    "from matplotlib import font_manager, rc\n",
    "import matplotlib.pylab as plt\n",
    "%matplotlib inline\n",
    "\n",
    "plt.rcParams[\"figure.figsize\"] = (14,6)\n",
    "plt.rcParams['lines.linewidth'] = 2\n",
    "plt.rcParams['lines.color'] = 'r'\n",
    "plt.rcParams['axes.grid'] = True \n",
    "font_name = font_manager.FontProperties(fname=\"c:/Windows/Fonts/malgun.ttf\").get_name()\n",
    "rc('font', family=font_name)"
   ]
  },
  {
   "cell_type": "code",
   "execution_count": null,
   "metadata": {},
   "outputs": [],
   "source": [
    "ax = plt.gca()\n",
    "new_price_col_data.plot(kind='line', x=new_price_col_data.columns[0], y=new_price_col_data.columns[3], ax=ax)\n",
    "new_price_col_data.plot(kind='line', x=new_price_col_data.columns[0], y=new_price_col_data.columns[5], ax=ax)\n",
    "plt.show()"
   ]
  },
  {
   "cell_type": "markdown",
   "metadata": {},
   "source": [
    "### 가치 차트"
   ]
  },
  {
   "cell_type": "code",
   "execution_count": null,
   "metadata": {},
   "outputs": [],
   "source": [
    "import xlwings as xw\n",
    "import pandas as pd\n",
    "\n",
    "path = r'{}'\n",
    "wb_value = xw.Book(path) \n",
    "print(path)\n",
    "value_sheet = wb_value.sheets['sheet1']   \n",
    "row_num = value_sheet.range(1,1).end('down').end('down').row  \n",
    "data_range = 'A1:F' + str(row_num)\n",
    "# #apt_info_column = [\"단지명\", \"주소(지번)\", \"주소(도로명)\", \"공급/전용면적\", \"세대수\", \"방/욕실수\", \"현관구조\"]\n",
    "value_info = value_sheet[data_range].options(pd.DataFrame, index=False, header=True).value \n",
    "value_info = value_info.drop([0, 0])"
   ]
  },
  {
   "cell_type": "code",
   "execution_count": null,
   "metadata": {},
   "outputs": [],
   "source": [
    "value_info[\"년도\"] = pd.to_datetime(value_info[\"년도\"], format='%Y', errors='ignore')"
   ]
  },
  {
   "cell_type": "code",
   "execution_count": null,
   "metadata": {},
   "outputs": [],
   "source": [
    "\n",
    "value_info[\"년도\"] = pd.DatetimeIndex(value_info[\"년도\"]).year\n",
    "value_info[\"도시근로자 평균월소득(A)\"] = value_info[\"도시근로자 평균월소득(A)\"].map('{:,.0f}'.format)\n",
    "value_info[\"평균연소득 (A X 12개월)\"] = value_info[\"평균연소득 (A X 12개월)\"].map('{:,.0f}'.format)\n",
    "value_info[\"KB시세 및 매수가능가격\"] = 0\n",
    "#value_info[\"매매가격\"] = value_info[\"매매가격\"].map('{:,.0f}'.format)\n",
    "value_info[\"매매가격\"] = 0\n",
    "#value_info[\"가치\"] = value_info[\"가치\"].map('{:,.2f}'.format)\n",
    "value_info[\"가치\"] = 0\n"
   ]
  },
  {
   "cell_type": "code",
   "execution_count": null,
   "metadata": {},
   "outputs": [],
   "source": [
    "t_value_price = new_price_col_data[new_price_col_data[\"기준월\"][\"기준월\"].dt.month == 10]\n",
    "t_value_price = t_value_price.reset_index(drop=True)\n",
    "t_value_price['기준월'] = t_value_price['기준월']['기준월'].dt.year\n",
    "t_value_price = t_value_price.reset_index(drop=True)\n",
    "t_value_price.index += 1\n",
    "value_price_list = t_value_price[\"기준월\"][\"기준월\"].tolist()"
   ]
  },
  {
   "cell_type": "code",
   "execution_count": null,
   "metadata": {},
   "outputs": [],
   "source": [
    "for idx, year in enumerate(value_price_list):   \n",
    "    \n",
    "    tValue = t_value_price.loc[t_value_price['기준월']['기준월'] == year, '매매가']['상위평균가'].values[0]\n",
    "    value_info.loc[value_info['년도'] == year, 'KB시세 및 매수가능가격'] = tValue\n",
    "            \n",
    "\n",
    "        \n",
    "value_info[\"도시근로자 평균월소득(A)\"] = value_info[\"도시근로자 평균월소득(A)\"].str.replace(\",\", \"\")\n",
    "value_info[\"평균연소득 (A X 12개월)\"] = value_info[\"평균연소득 (A X 12개월)\"].str.replace(\",\", \"\")\n",
    "\n",
    "value_info[\"도시근로자 평균월소득(A)\"] = pd.to_numeric(value_info[\"도시근로자 평균월소득(A)\"])\n",
    "value_info[\"평균연소득 (A X 12개월)\"] = pd.to_numeric(value_info[\"평균연소득 (A X 12개월)\"])\n",
    "#value_info[\"년도\"] = pd.to_datetime(value_info[\"년도\"].astype(str), format='%Y')\n",
    "dropIndexs = value_info[value_info['KB시세 및 매수가능가격'] == 0].index\n",
    "value_info.drop(dropIndexs, inplace=True)\n",
    "value_info.reset_index(drop=True)\n",
    "\n",
    "value_info.index = np.arange(1, len(value_info) + 1)\n",
    "\n",
    "value_info[\"매매가격\"] = value_info[\"KB시세 및 매수가능가격\"] * 10000\n",
    "\n",
    "value_info[\"가치\"] = value_info[\"매매가격\"] / value_info[\"평균연소득 (A X 12개월)\"]\n",
    "value_info[\"평균가치\"] = value_info[\"가치\"].sum() / value_info[\"가치\"].count()\n",
    "#value_info[\"평균가치\"] = value_\n",
    "\n",
    "#value_info = value_info.set_index('년도')\n",
    "value_info"
   ]
  },
  {
   "cell_type": "code",
   "execution_count": null,
   "metadata": {},
   "outputs": [],
   "source": [
    "from matplotlib import font_manager, rc\n",
    "import matplotlib.pylab as plt\n",
    "from matplotlib import pyplot\n",
    "import numpy as np\n",
    "import string\n",
    "\n",
    "%matplotlib inline\n",
    "\n",
    "plt.rcParams[\"figure.figsize\"] = (14,6)\n",
    "plt.rcParams['lines.linewidth'] = 3\n",
    "plt.rcParams['lines.color'] = 'r'\n",
    "plt.rcParams['axes.grid'] = True \n",
    "\n",
    "font_name = font_manager.FontProperties(fname=\"c:/Windows/Fonts/malgun.ttf\").get_name()\n",
    "rc('font', family=font_name)\n"
   ]
  },
  {
   "cell_type": "code",
   "execution_count": null,
   "metadata": {},
   "outputs": [],
   "source": [
    "ax_value_info = plt.gca()\n",
    "totalCount = value_info[\"가치\"].count()\n",
    "for index, value in value_info.iterrows():    \n",
    "    \n",
    "    x = int(value[0])\n",
    "    y = value[5]\n",
    "    comment = str(\"{0:.2f}\".format(value[5]))\n",
    "\n",
    "    ax_value_info.text(x, y, comment, fontsize=15)\n",
    "    \n",
    "    if totalCount == index:\n",
    "        ax_value_info.text(x, value[6], '{:,.2f}'.format(value[6]), fontsize=20)\n",
    "\n",
    "\n",
    "value_info.plot(kind='line', x=value_info.columns[0], y=value_info.columns[5], ax=ax_value_info)\n",
    "value_info.plot(kind='line', x=value_info.columns[0], y=value_info.columns[6], ax=ax_value_info)\n",
    "\n",
    "plt.show()"
   ]
  },
  {
   "cell_type": "markdown",
   "metadata": {},
   "source": [
    "### 심리차트"
   ]
  },
  {
   "cell_type": "code",
   "execution_count": null,
   "metadata": {},
   "outputs": [],
   "source": [
    "import pandas as pd\n",
    "import xlwings as xw\n",
    "\n",
    "path = r'{}'\n",
    "wb = xw.Book(path) \n",
    "print(path)\n",
    "sheet = wb.sheets['{}']   \n",
    "row_num = sheet.range(1,1).end('down').end('down').row  \n",
    "data_range = 'B2:BV' + str(row_num)\n",
    "#apt_info_column = [\"단지명\", \"주소(지번)\", \"주소(도로명)\", \"공급/전용면적\", \"세대수\", \"방/욕실수\", \"현관구조\"]\n",
    "mentality = sheet[data_range].options(pd.DataFrame, index=False, header=True).value "
   ]
  },
  {
   "cell_type": "code",
   "execution_count": null,
   "metadata": {},
   "outputs": [],
   "source": [
    "reorganizeColumns(mentality, '날짜 전국 서울 강북 강남 6개광역시 5개광역시 부산 대구 인천 광주 대전 울산 세종 수도권 경기도 강원도 충청북도 충청남도 전라북도 전라남도 경상북도 경상남도 기타지방 제주', 0)\n",
    "mentality = mentality.drop([0,0])\n",
    "mentality.fillna(0)"
   ]
  },
  {
   "cell_type": "code",
   "execution_count": null,
   "metadata": {},
   "outputs": [],
   "source": [
    "from matplotlib import font_manager, rc\n",
    "import matplotlib.pylab as plt\n",
    "from matplotlib import pyplot\n",
    "import numpy as np\n",
    "import string\n",
    "\n",
    "%matplotlib inline\n",
    "\n",
    "plt.rcParams[\"figure.figsize\"] = (14,6)\n",
    "plt.rcParams['lines.linewidth'] = 3\n",
    "plt.rcParams['lines.color'] = 'r'\n",
    "plt.rcParams['axes.grid'] = True \n",
    "\n",
    "font_name = font_manager.FontProperties(fname=\"c:/Windows/Fonts/malgun.ttf\").get_name()\n",
    "rc('font', family=font_name)"
   ]
  },
  {
   "cell_type": "code",
   "execution_count": null,
   "metadata": {},
   "outputs": [],
   "source": [
    "ax_mentality = plt.gca()\n",
    "# totalCount = mentality[\"가치\"].count()\n",
    "# for index, value in value_info.iterrows():    \n",
    "    \n",
    "#     x = int(value[0])\n",
    "#     y = value[5]\n",
    "#     comment = str(\"{0:.2f}\".format(value[5]))\n",
    "\n",
    "#     ax_value_info.text(x, y, comment, fontsize=15)\n",
    "    \n",
    "#     if totalCount == index:\n",
    "#         ax_value_info.text(x, value[6], '{:,.2f}'.format(value[6]), fontsize=20)\n",
    "\n",
    "x = mentality.columns[0]\n",
    "y = [40, 41]\n",
    "mentality.plot(kind='line', x=x, y=y, ax=ax_mentality)\n",
    "#value_info.plot(kind='line', x=value_info.columns[0], y=value_info.columns[6], ax=ax_value_info)\n",
    "\n",
    "plt.show()"
   ]
  },
  {
   "cell_type": "code",
   "execution_count": null,
   "metadata": {},
   "outputs": [],
   "source": [
    "from datetime import datetime\n",
    "new_mentality = mentality\n",
    "ret = pd.to_datetime(mentality['날짜']['날짜'], errors='coerce')\n",
    "mentality['날짜'] = ret\n",
    "new_mentality = mentality[mentality[\"날짜\"][\"날짜\"].dt.year >= 2018]"
   ]
  },
  {
   "cell_type": "code",
   "execution_count": null,
   "metadata": {},
   "outputs": [],
   "source": [
    "ax_mentality = plt.gca()\n",
    "# totalCount = mentality[\"가치\"].count()\n",
    "# for index, value in value_info.iterrows():    \n",
    "    \n",
    "#     x = int(value[0])\n",
    "#     y = value[5]\n",
    "#     comment = str(\"{0:.2f}\".format(value[5]))\n",
    "\n",
    "#     ax_value_info.text(x, y, comment, fontsize=15)\n",
    "    \n",
    "#     if totalCount == index:\n",
    "#         ax_value_info.text(x, value[6], '{:,.2f}'.format(value[6]), fontsize=20)\n",
    "\n",
    "x = new_mentality.columns[0]\n",
    "y = [4, 5]\n",
    "new_mentality.plot(kind='line', x=x, y=y, ax=ax_mentality)\n",
    "#value_info.plot(kind='line', x=value_info.columns[0], y=value_info.columns[6], ax=ax_value_info)\n",
    "\n",
    "plt.show()"
   ]
  }
 ],
 "metadata": {
  "kernelspec": {
   "display_name": "Python 3",
   "language": "python",
   "name": "python3"
  },
  "language_info": {
   "codemirror_mode": {
    "name": "ipython",
    "version": 3
   },
   "file_extension": ".py",
   "mimetype": "text/x-python",
   "name": "python",
   "nbconvert_exporter": "python",
   "pygments_lexer": "ipython3",
   "version": "3.7.4"
  }
 },
 "nbformat": 4,
 "nbformat_minor": 2
}
